{
 "cells": [
  {
   "cell_type": "markdown",
   "metadata": {},
   "source": []
  },
  {
   "cell_type": "code",
   "execution_count": null,
   "metadata": {},
   "outputs": [],
   "source": [
    "E0C3LKD0BXF0KHL5\n",
    "E0C3K8V5M68JV91R"
   ]
  }
 ],
 "metadata": {
  "kernelspec": {
   "display_name": "Python 3",
   "language": "python",
   "name": "python3"
  },
  "language_info": {
   "name": "python"
  },
  "orig_nbformat": 4,
  "vscode": {
   "interpreter": {
    "hash": "8592b0933cf5b078e08c288f1da2b261244156b0f3df0c57dc87faf9d1a368cf"
   }
  }
 },
 "nbformat": 4,
 "nbformat_minor": 2
}
